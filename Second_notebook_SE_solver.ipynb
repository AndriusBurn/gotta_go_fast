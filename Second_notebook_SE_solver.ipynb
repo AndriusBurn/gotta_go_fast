{
 "cells": [
  {
   "cell_type": "markdown",
   "id": "ef0115d7",
   "metadata": {},
   "source": [
    "# Second Notebook: Solving the Schrödinger equation\n",
    "\n",
    "#### Author: Andrius Burnelis\n",
    "\n",
    "Since I am a theorist, I enjoy working in dimensionless quantities and convenient units. For the purposes of this notebook, we will set $\\hbar = c = 1$. To work in the conventional units, you may multiply (or divide) appropriate factors of $\\hbar c = 197$ MeV fm to give you the right units.\n",
    "\n",
    "In this convention (and assuming a central, short ranged potential) the reduced radial Schrödinger equation is given as:\n",
    "\n",
    "$$ \\left[ \\frac{d^{2}}{dr^{2}} - \\frac{\\ell (\\ell + 1)}{r^{2}} + k^{2} + V'(r) \\right] u_{\\ell}(r) = 0. $$\n",
    "\n",
    "Here we have defined $k^{2} = 2 \\mu E$ and $V'(r) = - 2 \\mu V_{SR}(r)$. The short range (SR) nuclear potential $V_{SR}(r)$ has the property that it has finite range so beyond a certain radius $r_{0}$, we have $V_{SR}(r \\ge r_{0}) = 0$.\n",
    "\n",
    "What we would like to do is code up some method to solve for the wavefunction in general for some central, finite potential. A simple (and easy to code) but non-physical potential is the finite square well:\n",
    "$$ V_{SW}(r) = \\begin{cases} -V_{0} & r < r_{0} \\\\ 0 & r \\ge 0 \\end{cases}. $$\n",
    "\n",
    "This potential is one that we can solve analytically (easiest in the neutral case), so we can run a test case of our solver against the analytic solution. The analytic solutions for the neutral case are the spherical Bessel functions, and the normalization is fixed by our boundary conditions: the wavefunction is 0 at the origin, and the wavefunction + its derivative are continuous at the boundary. \n",
    "\n",
    "------------\n"
   ]
  },
  {
   "cell_type": "code",
   "execution_count": null,
   "id": "aa04e0d5",
   "metadata": {},
   "outputs": [],
   "source": [
    "# Useful imports\n",
    "import numpy as np\n",
    "import matplotlib.pyplot as plt"
   ]
  },
  {
   "cell_type": "markdown",
   "id": "94a35b69",
   "metadata": {},
   "source": [
    "Here we define our simple potential, the square well."
   ]
  },
  {
   "cell_type": "code",
   "execution_count": null,
   "id": "d21924ab",
   "metadata": {},
   "outputs": [],
   "source": [
    "def square_well(r, r_0 = 4, V_0 = -10):\n",
    "    \"\"\"\n",
    "    Square well potential function.\n",
    "    \"\"\"\n",
    "    return np.where(r < r_0, V_0, 0)"
   ]
  },
  {
   "cell_type": "markdown",
   "id": "3a9f766b",
   "metadata": {},
   "source": [
    "Here I use the default Numerov method to solve our problem. There is nothing special I am doing here that speeds things up, in fact I purposely didn't do an easy thing that could speed this up. See if you know the trick!"
   ]
  },
  {
   "cell_type": "code",
   "execution_count": null,
   "id": "f3c2e962",
   "metadata": {},
   "outputs": [],
   "source": [
    "def numerov_solve(V, r, k, l):\n",
    "    \"\"\"\n",
    "    Solve the radial Schrödinger equation using Numerov's method.\n",
    "    \"\"\"\n",
    "    # Get the step size and number of points\n",
    "    h = r[1] - r[0]\n",
    "    N = r.shape[0]\n",
    "\n",
    "    # Initialize the wavefunction array\n",
    "    u = np.zeros(N)\n",
    "\n",
    "    # Initial conditions (at small r, u behaves like r^(l+1))\n",
    "    u[0] = 0.0\n",
    "    u[1] = r[1]**(l + 1)  # First order approximation\n",
    "\n",
    "    # Define the effective potential\n",
    "    V_eff = V(r) + (l * (l + 1) / np.square(r))\n",
    "\n",
    "    # Get the numerov f\n",
    "    f = k**2 - V_eff\n",
    "\n",
    "    # Numerov loop\n",
    "    for i in range(1, N - 1):\n",
    "        u[i + 1] = ((2 * (1 - (5 * h**2 / 12) * f[i]) * u[i] -\n",
    "                     (1 + (h**2 / 12) * f[i - 1]) * u[i - 1]) /\n",
    "                    (1 + (h**2 / 12) * f[i + 1]))\n",
    "\n",
    "    return r, u"
   ]
  },
  {
   "cell_type": "code",
   "execution_count": null,
   "id": "365b4ac6",
   "metadata": {},
   "outputs": [],
   "source": [
    "# Define the array of r-values, solve the SE, and define the array of the potential\n",
    "r = np.linspace(1e-5, 10, 1000)\n",
    "r, u = numerov_solve(square_well, r, k = 1.2, l = 0)\n",
    "v = square_well(r)\n",
    "\n",
    "# For plotting purposes, we will scale the potential to match the scale of the wavefunction\n",
    "v_scaled = v * (np.max(np.abs(u)) / np.max(np.abs(v)))\n",
    "\n",
    "# Plot the wavefunction and the potential\n",
    "fig, ax = plt.subplots()\n",
    "ax.plot(r, u, label = 'Wavefunction $u(r)$')\n",
    "ax.plot(r, v_scaled, label = 'Scaled Potential $V(r)$', color = 'black', linestyle = '--')\n",
    "ax.set_xlabel('Radius $r$')\n",
    "ax.set_ylabel('Wavefunction / Potential')\n",
    "ax.set_title('Wavefunction and Potential')\n",
    "ax.legend()"
   ]
  },
  {
   "cell_type": "markdown",
   "id": "9860b381",
   "metadata": {},
   "source": [
    "------------\n",
    "------------\n",
    "## Lets see how fast it takes"
   ]
  },
  {
   "cell_type": "code",
   "execution_count": null,
   "id": "22dc5a13",
   "metadata": {},
   "outputs": [],
   "source": [
    "%%timeit\n",
    "numerov_solve(square_well, r, k = 1.2, l = 0)"
   ]
  },
  {
   "cell_type": "markdown",
   "id": "fc8d20ed",
   "metadata": {},
   "source": [
    "On my laptop it takes several hundreds of microseconds. Surely there is something better that we can do."
   ]
  },
  {
   "cell_type": "markdown",
   "id": "67680739",
   "metadata": {},
   "source": [
    "------------\n",
    "------------\n",
    "## Challenge: Do better!\n",
    "\n",
    "You also can define your own potential and compare it!\n",
    "\n",
    "Feel free to copy and paste any of the above code that may be relevant for you."
   ]
  },
  {
   "cell_type": "code",
   "execution_count": null,
   "id": "39afada0",
   "metadata": {},
   "outputs": [],
   "source": []
  }
 ],
 "metadata": {
  "kernelspec": {
   "display_name": "Python 3",
   "language": "python",
   "name": "python3"
  },
  "language_info": {
   "codemirror_mode": {
    "name": "ipython",
    "version": 3
   },
   "file_extension": ".py",
   "mimetype": "text/x-python",
   "name": "python",
   "nbconvert_exporter": "python",
   "pygments_lexer": "ipython3",
   "version": "3.12.1"
  }
 },
 "nbformat": 4,
 "nbformat_minor": 5
}
