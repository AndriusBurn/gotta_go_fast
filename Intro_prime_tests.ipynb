{
 "cells": [
  {
   "cell_type": "markdown",
   "id": "a9e7a3ce",
   "metadata": {},
   "source": [
    "# Introduction to faster Python: Prime checking\n",
    "\n",
    "#### Author: Andrius Burnelis\n",
    "\n",
    "We are often tasked with handling many calculations using Python. The standard approach is to write up a Jupyter notebook, or write some script that can loop through the calculations you need to perform. Standard Python _can_ be fast, however when compared to variations of C, Fortran, or others Python can feel a bit sluggish. The goal of this notebook is to equip you with a few tools that can help you make your Python runtimes competitive against codes written with some flavor of C or Fortran.\n",
    "\n",
    "The example problem that we are tasked with is to use Python to define a function that will take an array of integers and perform a check to see which numbers are prime. The function will then return an array containing the indices of the prime numbers. This is a simple problem to solve, so we are using this as an illustrative example. In this notebook I will show you various approaches to speeding up your Python code.\n",
    "\n",
    "In order to have a fair timing comparison between the different methods, it is important we use the same array throughout the notebook. I define the test array here as an array of 100 randomly generated integers between 0 and 5000. You can feel free to modify the test array to whatever size you may like. The only stipulation here is that you make sure that the array only contains integers as some functions may not be coded to handle different data types. Each function just assumes that the input array is formatted properly.\n",
    "\n",
    "NOTE: The timing of these methods can be dependent on hardware. All timings mentioned in this notebook are from my personal laptop, so timings or improvements may be different on your computer."
   ]
  },
  {
   "cell_type": "code",
   "execution_count": null,
   "id": "3a9fefc3",
   "metadata": {},
   "outputs": [
    {
     "ename": "",
     "evalue": "",
     "output_type": "error",
     "traceback": [
      "\u001b[1;31mThe kernel failed to start as the Python Environment 'Python' is no longer available. Consider selecting another kernel or refreshing the list of Python Environments."
     ]
    }
   ],
   "source": [
    "# Useful imports\n",
    "import numpy as np\n",
    "from numba import njit"
   ]
  },
  {
   "cell_type": "code",
   "execution_count": 2,
   "id": "60d57413",
   "metadata": {},
   "outputs": [],
   "source": [
    "# Initialize the test array of potential primes\n",
    "test_array = np.array([3907, 4809, 1118, 1391, 3941, 1246, 2827, 2035, 1000, 1804, \n",
    "                       4775, 3979, 4693, 1790, 4472, 3417, 4976, 386, 772, 4125, \n",
    "                       138, 4677, 4400, 1806, 398, 4263, 1124, 971, 1472, 2798, \n",
    "                       2176, 4819, 2965, 193, 3388, 2896, 907, 4140, 828, 1343, \n",
    "                       899, 1711, 640, 4228, 4364, 4829, 3609, 1361, 558, 3902, \n",
    "                       2329, 1178, 3414, 2300, 986, 3514, 2011, 467, 2254, 439, \n",
    "                       2624, 1329, 1951, 4188, 1505, 3756, 2928, 4084, 1780, 316, \n",
    "                       1746, 2933, 125, 1801, 4818, 654, 4458, 2274, 2121, 3859, \n",
    "                       882, 4700, 2041, 1676, 4865, 3371, 1525, 3716, 3584, 3427, \n",
    "                       4483, 3677, 62, 3449, 493, 1125, 3931, 3586, 3597, 3307])\n",
    "\n",
    "# # If you would like to generate a larger array of random numbers, you can modify the following lines:\n",
    "# np.random.seed(0)  # For reproducibility\n",
    "# int_min = 1\n",
    "# int_max = 5000\n",
    "# size = 10000\n",
    "# test_array = np.random.randint(int_min, int_max, size=size)"
   ]
  },
  {
   "cell_type": "markdown",
   "id": "1a31c23a",
   "metadata": {},
   "source": [
    "------------------\n",
    "------------------\n",
    "## Algorithmic speed-up"
   ]
  },
  {
   "cell_type": "markdown",
   "id": "cbd92b6c",
   "metadata": {},
   "source": [
    "The first approach to speeding up your code is to make sure that you are using the correct algorithm. Things you do in your code may be working and give you the right answer but the way you do it may not be the smartest. The standard brute force would be to check the divisibility of **every single number** up to $n - 1$. If any of those numbers divide $n$, then $n$ is not prime. This is incredibly inefficient however it will be the starting point of this journey."
   ]
  },
  {
   "cell_type": "code",
   "execution_count": 3,
   "id": "15803f0b",
   "metadata": {},
   "outputs": [],
   "source": [
    "def brute_force(ns):\n",
    "    \"\"\"\n",
    "    Brute force algorithm to check if a number is prime.\n",
    "    This method is incredibly inefficient since it checks ALL numbers up to n.\n",
    "    \"\"\"\n",
    "    # Initialize a list to store the indices of prime numbers\n",
    "    prime_indices = []\n",
    "\n",
    "    # Iterate through each number contained in array ns to check if it is prime\n",
    "    for index in range(0, ns.shape[0]):\n",
    "        # Check if n is less than 2\n",
    "        if ns[index] < 2:\n",
    "            continue\n",
    "\n",
    "        # Check if n is prime\n",
    "        for i in range(2, ns[index] - 1):\n",
    "            if ns[index] % i == 0:\n",
    "                break\n",
    "        else:\n",
    "            # If n is prime, append its index to the list\n",
    "            prime_indices.append(index)\n",
    "\n",
    "    return np.array(prime_indices)"
   ]
  },
  {
   "cell_type": "markdown",
   "id": "ae3a3341",
   "metadata": {},
   "source": [
    "Aside: Jupyter notebooks have some cool little commands you can run in each code cell. The one we will be using in this demo is \"%%timeit\". This command will loop over the segment of code in the cell a few times and then provide you with runtime details. In our case, the segment of code is a function call to check what numbers in our test array are prime."
   ]
  },
  {
   "cell_type": "code",
   "execution_count": 4,
   "id": "c3d780ca",
   "metadata": {},
   "outputs": [
    {
     "name": "stdout",
     "output_type": "stream",
     "text": [
      "3.19 ms ± 104 μs per loop (mean ± std. dev. of 7 runs, 100 loops each)\n"
     ]
    }
   ],
   "source": [
    "%%timeit\n",
    "brute_force(test_array)"
   ]
  },
  {
   "cell_type": "markdown",
   "id": "6270d81e",
   "metadata": {},
   "source": [
    "My laptop ran this in a few milliseconds (~3 ms). This isn't bad as it would take me a much longer time to check these by hand, but we can do better. This algorithm is not optimal for many reasons, however the worst of all is that we are checking every single number. We can restrict the search space by only checking up to $\\sqrt{n}$."
   ]
  },
  {
   "cell_type": "code",
   "execution_count": 5,
   "id": "33bf3508",
   "metadata": {},
   "outputs": [],
   "source": [
    "def smarter_search(ns):\n",
    "    \"\"\"\n",
    "    Smarter search algorithm to check if a number is prime.\n",
    "    This method checks only numbers up to the square root of n.\n",
    "    \"\"\"\n",
    "    # Initialize a list to store the indices of prime numbers\n",
    "    prime_indices = []\n",
    "\n",
    "    # Iterate through each number contained in array ns to check if it is prime\n",
    "    for index in range(0, ns.shape[0]):\n",
    "        # Check if n is less than 2\n",
    "        if ns[index] < 2:\n",
    "            continue\n",
    "\n",
    "        # Check if n is prime\n",
    "        for i in range(2, int(np.sqrt(ns[index])) + 1):\n",
    "            if ns[index] % i == 0:\n",
    "                break\n",
    "        else:\n",
    "            # If n is prime, append its index to the list\n",
    "            prime_indices.append(index)\n",
    "\n",
    "    return np.array(prime_indices)"
   ]
  },
  {
   "cell_type": "code",
   "execution_count": 6,
   "id": "18d90b71",
   "metadata": {},
   "outputs": [
    {
     "name": "stdout",
     "output_type": "stream",
     "text": [
      "137 μs ± 1.94 μs per loop (mean ± std. dev. of 7 runs, 10,000 loops each)\n"
     ]
    }
   ],
   "source": [
    "%%timeit\n",
    "smarter_search(test_array)"
   ]
  },
  {
   "cell_type": "markdown",
   "id": "e4f0db56",
   "metadata": {},
   "source": [
    "Just the simple change of reducing the search from $n - 1$ down to $\\sqrt{n}$ my computer now takes about a hundred microseconds (~130 µs)! This is getting better, but if we needed to do this many many times it is still slow. We could also reduce the search space and skip checking over all the even numbers but why stop there? We can skip over all multiples of prime numbers. This method is known as the sieve of Eratosthenes and can be very efficient."
   ]
  },
  {
   "cell_type": "code",
   "execution_count": 7,
   "id": "c5c6bbe2",
   "metadata": {},
   "outputs": [],
   "source": [
    "def even_smarter_search(ns):\n",
    "    \"\"\"\n",
    "    This uses the sieve of Eratosthenes to find all primes up to the maximum number in ns.\n",
    "    \"\"\"\n",
    "    # Get the maximum number in ns\n",
    "    max_n = np.max(ns)\n",
    "\n",
    "    # Create a boolean array to mark non-prime numbers\n",
    "    sieve = np.ones(max_n + 1, dtype = bool)\n",
    "    sieve[0:2] = False  # 0 and 1 are not prime numbers\n",
    "    for i in range(2, int(np.sqrt(max_n)) + 1):\n",
    "        if sieve[i]:\n",
    "            sieve[i*i:max_n + 1:i] = False  # Mark multiples of i as non-prime\n",
    "    primes = np.nonzero(sieve)[0]\n",
    "    primes_in_ns = np.intersect1d(primes, ns) # Get the prime numbers that are in ns\n",
    "    return np.nonzero(np.isin(ns, primes_in_ns))[0]  # Get the indices of the prime numbers in ns"
   ]
  },
  {
   "cell_type": "code",
   "execution_count": 8,
   "id": "daa21fa9",
   "metadata": {},
   "outputs": [
    {
     "name": "stdout",
     "output_type": "stream",
     "text": [
      "51.5 μs ± 1.09 μs per loop (mean ± std. dev. of 7 runs, 10,000 loops each)\n"
     ]
    }
   ],
   "source": [
    "%%timeit\n",
    "even_smarter_search(test_array)"
   ]
  },
  {
   "cell_type": "markdown",
   "id": "78a83986",
   "metadata": {},
   "source": [
    "Changing the algorithm in this way now gives me a runtime of 10s of microseconds. Utilizing a smarter algorithm has dramatically improved the runtime from milliseconds down to 10s of microseconds. That's an improvement of 2 orders of magnitude! This is good but not the end of the story. We now have a smarter algorithm that can run faster with just \"vanilla\" Python but what if this is still not fast enough?"
   ]
  },
  {
   "cell_type": "markdown",
   "id": "0e8b43da",
   "metadata": {},
   "source": [
    "------------------\n",
    "------------------\n",
    "## Numba: Njit"
   ]
  },
  {
   "cell_type": "markdown",
   "id": "e3bafc2b",
   "metadata": {},
   "source": [
    "[Numba](https://numba.pydata.org) is a Python library that utilizes just-in-time (JIT) compilation to dramatically boost the speed of some codes. Importing this package grants you the ability to use the decorator before a function you want to compile. Just-in-time compilation is a clean way to easily speed up some code. It is able to do this by exploiting the way you will likely use your code. As with many things, you will likely be computing things multiple times in loops. JIT activates the first time you encounter a piece of code. As the computer is executing the piece of code for the first time, it is also keeping track of everything that is happening and will then compile it after this first run. This first run is often slower than a standard Python call, however every subsequent call will be much faster. \n",
    "\n",
    "The way we implement this practically in the code is super easy. We simply need to add the decorator \"@njit\" right before our definition of the function. This tells the computer that we would like to JIT compile this function. While this decorator is versatile and simple to use, it also has its limits. Later down I show you an example designed to fail to show you how finicky this can get."
   ]
  },
  {
   "cell_type": "code",
   "execution_count": 9,
   "id": "c8709256",
   "metadata": {},
   "outputs": [],
   "source": [
    "@njit\n",
    "def jitted_brute_force(ns):\n",
    "    \"\"\"\n",
    "    Brute force algorithm to check if a number is prime.\n",
    "    This method is incredibly inefficient since it checks ALL numbers up to n.\n",
    "    \"\"\"\n",
    "    # Initialize a list to store the indices of prime numbers\n",
    "    prime_indices = []\n",
    "\n",
    "    # Iterate through each number contained in array ns to check if it is prime\n",
    "    for index in range(0, ns.shape[0]):\n",
    "        # Check if n is less than 2\n",
    "        if ns[index] < 2:\n",
    "            continue\n",
    "\n",
    "        # Check if n is prime\n",
    "        for i in range(2, ns[index] - 1):\n",
    "            if ns[index] % i == 0:\n",
    "                break\n",
    "        else:\n",
    "            # If n is prime, append its index to the list\n",
    "            prime_indices.append(index)\n",
    "\n",
    "    return np.array(prime_indices)"
   ]
  },
  {
   "cell_type": "code",
   "execution_count": 10,
   "id": "3d168f4d",
   "metadata": {},
   "outputs": [
    {
     "name": "stdout",
     "output_type": "stream",
     "text": [
      "20.5 μs ± 2.71 μs per loop (mean ± std. dev. of 7 runs, 1 loop each)\n"
     ]
    }
   ],
   "source": [
    "%%timeit\n",
    "jitted_brute_force(test_array)"
   ]
  },
  {
   "cell_type": "markdown",
   "id": "43164037",
   "metadata": {},
   "source": [
    "This is amazing! Simply adding the decorator to the worst method has made it even twice as fast as our best algorithm method. We are finally starting to see some significant speed up. Now what if we combine this with the first step of optimization where we consider divisibility checks up to $\\sqrt{n}$? Let us find out!"
   ]
  },
  {
   "cell_type": "code",
   "execution_count": 11,
   "id": "4a666f29",
   "metadata": {},
   "outputs": [],
   "source": [
    "@njit\n",
    "def jitted_smarter_search(ns):\n",
    "    \"\"\"\n",
    "    Smarter search algorithm to check if a number is prime.\n",
    "    This method checks only numbers up to the square root of n.\n",
    "    \"\"\"\n",
    "    # Initialize a list to store the indices of prime numbers\n",
    "    prime_indices = []\n",
    "\n",
    "    # Iterate through each number contained in array ns to check if it is prime\n",
    "    for index in range(0, ns.shape[0]):\n",
    "        # Check if n is less than 2\n",
    "        if ns[index] < 2:\n",
    "            continue\n",
    "\n",
    "        # Check if n is prime\n",
    "        for i in range(2, int(np.sqrt(ns[index])) + 1):\n",
    "            if ns[index] % i == 0:\n",
    "                break\n",
    "        else:\n",
    "            # If n is prime, append its index to the list\n",
    "            prime_indices.append(index)\n",
    "\n",
    "    return np.array(prime_indices)"
   ]
  },
  {
   "cell_type": "code",
   "execution_count": 12,
   "id": "6c34e2e1",
   "metadata": {},
   "outputs": [
    {
     "name": "stdout",
     "output_type": "stream",
     "text": [
      "1.11 μs ± 15.7 ns per loop (mean ± std. dev. of 7 runs, 1,000,000 loops each)\n"
     ]
    }
   ],
   "source": [
    "%%timeit\n",
    "jitted_smarter_search(test_array)"
   ]
  },
  {
   "cell_type": "markdown",
   "id": "735e8a56",
   "metadata": {},
   "source": [
    "This is even better!! Now my laptop went from the worst method ~2 ms down to ~1 µs. This is a factor of 200x faster just by being a little bit clever with the algorithm and then using the Numba decorator. Surely we can do better with the even smarter sieve algorithm right?"
   ]
  },
  {
   "cell_type": "code",
   "execution_count": 13,
   "id": "7c9be5b3",
   "metadata": {},
   "outputs": [],
   "source": [
    "#########\n",
    "# THE FOLLOWING FUNCTION IS BROKEN INTENTIONALLY\n",
    "# TO SHOW THE LIMITATIONS OF NUMBA AND HOW CAREFUL\n",
    "# YOU HAVE TO BE WITH YOUR DATA TYPES\n",
    "#########\n",
    "\n",
    "@njit\n",
    "def BROKEN_jitted_even_smarter_search(ns):\n",
    "    \"\"\"\n",
    "    This function in principle uses the sieve of Eratosthenes to find all primes up to the maximum number in ns.\n",
    "    However, it is broken because Numba cannot compile the boolean array sieve with dtype = bool.\n",
    "    We can run this cell because we are only defining the function, not executing it.\n",
    "    When we try to run this, it will throw an error because Numba cannot compile the function.\n",
    "    \"\"\"\n",
    "    # Get the maximum number in ns\n",
    "    max_n = np.max(ns)\n",
    "\n",
    "    # Create a boolean array to mark non-prime numbers\n",
    "    sieve = np.ones(max_n + 1, dtype = bool) ### Numba cannot compile dtype = bool here, so we use uint8\n",
    "    sieve[0:2] = False  # 0 and 1 are not prime numbers\n",
    "    for i in range(2, int(np.sqrt(max_n)) + 1):\n",
    "        if sieve[i]:\n",
    "            sieve[i*i:max_n + 1:i] = False  # Mark multiples of i as non-prime\n",
    "    primes = np.nonzero(sieve)[0]\n",
    "    primes_in_ns = np.intersect1d(primes, ns) # Get the prime numbers that are in ns\n",
    "    return np.nonzero(np.isin(ns, primes_in_ns))[0]  # Get the indices of the prime numbers in ns"
   ]
  },
  {
   "cell_type": "code",
   "execution_count": 14,
   "id": "5658199c",
   "metadata": {},
   "outputs": [
    {
     "ename": "TypingError",
     "evalue": "Failed in nopython mode pipeline (step: nopython frontend)\nNo implementation of function Function(<function ones at 0x10a765580>) found for signature:\n \n >>> ones(int64, dtype=Function(<class 'bool'>))\n \nThere are 2 candidate implementations:\n  - Of which 2 did not match due to:\n  Overload in function 'ol_np_ones': File: numba/np/arrayobj.py: Line 4586.\n    With argument(s): '(int64, dtype=Function(<class 'bool'>))':\n   Rejected as the implementation raised a specific error:\n     TypingError: Failed in nopython mode pipeline (step: nopython frontend)\n   No implementation of function Function(<built-in function empty>) found for signature:\n    \n    >>> empty(int64, dtype=Function(<class 'bool'>))\n    \n   There are 2 candidate implementations:\n         - Of which 2 did not match due to:\n         Overload in function 'ol_np_empty': File: numba/np/arrayobj.py: Line 4440.\n           With argument(s): '(int64, dtype=Function(<class 'bool'>))':\n          Rejected as the implementation raised a specific error:\n            TypingError: Cannot parse input types to function np.empty(int64, Function(<class 'bool'>))\n     raised from /Users/andrius/code/gotta_go_fast/venv/lib/python3.12/site-packages/numba/np/arrayobj.py:4459\n   \n   During: resolving callee type: Function(<built-in function empty>)\n   During: typing of call at /Users/andrius/code/gotta_go_fast/venv/lib/python3.12/site-packages/numba/np/arrayobj.py (4593)\n   \n   \n   File \"venv/lib/python3.12/site-packages/numba/np/arrayobj.py\", line 4593:\n       def impl(shape, dtype=None):\n           arr = np.empty(shape, dtype=dtype)\n           ^\n   \n   During: Pass nopython_type_inference\n  raised from /Users/andrius/code/gotta_go_fast/venv/lib/python3.12/site-packages/numba/core/typeinfer.py:1074\n\nDuring: resolving callee type: Function(<function ones at 0x10a765580>)\nDuring: typing of call at /var/folders/mb/trbrgjlx0bd1gzxf6cd_k2h40000gn/T/ipykernel_88116/1990369097.py (19)\n\n\nFile \"../../../../var/folders/mb/trbrgjlx0bd1gzxf6cd_k2h40000gn/T/ipykernel_88116/1990369097.py\", line 19:\n<source missing, REPL/exec in use?>\n\nDuring: Pass nopython_type_inference",
     "output_type": "error",
     "traceback": [
      "\u001b[31m---------------------------------------------------------------------------\u001b[39m",
      "\u001b[31mTypingError\u001b[39m                               Traceback (most recent call last)",
      "\u001b[36mCell\u001b[39m\u001b[36m \u001b[39m\u001b[32mIn[14]\u001b[39m\u001b[32m, line 1\u001b[39m\n\u001b[32m----> \u001b[39m\u001b[32m1\u001b[39m \u001b[43mget_ipython\u001b[49m\u001b[43m(\u001b[49m\u001b[43m)\u001b[49m\u001b[43m.\u001b[49m\u001b[43mrun_cell_magic\u001b[49m\u001b[43m(\u001b[49m\u001b[33;43m'\u001b[39;49m\u001b[33;43mtimeit\u001b[39;49m\u001b[33;43m'\u001b[39;49m\u001b[43m,\u001b[49m\u001b[43m \u001b[49m\u001b[33;43m'\u001b[39;49m\u001b[33;43m'\u001b[39;49m\u001b[43m,\u001b[49m\u001b[43m \u001b[49m\u001b[33;43m'\u001b[39;49m\u001b[33;43m### THIS CELL WILL THROW AN ERROR\u001b[39;49m\u001b[38;5;130;43;01m\\n\u001b[39;49;00m\u001b[33;43mBROKEN_jitted_even_smarter_search(test_array)\u001b[39;49m\u001b[38;5;130;43;01m\\n\u001b[39;49;00m\u001b[33;43m'\u001b[39;49m\u001b[43m)\u001b[49m\n",
      "\u001b[36mFile \u001b[39m\u001b[32m~/code/gotta_go_fast/venv/lib/python3.12/site-packages/IPython/core/interactiveshell.py:2547\u001b[39m, in \u001b[36mInteractiveShell.run_cell_magic\u001b[39m\u001b[34m(self, magic_name, line, cell)\u001b[39m\n\u001b[32m   2545\u001b[39m \u001b[38;5;28;01mwith\u001b[39;00m \u001b[38;5;28mself\u001b[39m.builtin_trap:\n\u001b[32m   2546\u001b[39m     args = (magic_arg_s, cell)\n\u001b[32m-> \u001b[39m\u001b[32m2547\u001b[39m     result = \u001b[43mfn\u001b[49m\u001b[43m(\u001b[49m\u001b[43m*\u001b[49m\u001b[43margs\u001b[49m\u001b[43m,\u001b[49m\u001b[43m \u001b[49m\u001b[43m*\u001b[49m\u001b[43m*\u001b[49m\u001b[43mkwargs\u001b[49m\u001b[43m)\u001b[49m\n\u001b[32m   2549\u001b[39m \u001b[38;5;66;03m# The code below prevents the output from being displayed\u001b[39;00m\n\u001b[32m   2550\u001b[39m \u001b[38;5;66;03m# when using magics with decorator @output_can_be_silenced\u001b[39;00m\n\u001b[32m   2551\u001b[39m \u001b[38;5;66;03m# when the last Python token in the expression is a ';'.\u001b[39;00m\n\u001b[32m   2552\u001b[39m \u001b[38;5;28;01mif\u001b[39;00m \u001b[38;5;28mgetattr\u001b[39m(fn, magic.MAGIC_OUTPUT_CAN_BE_SILENCED, \u001b[38;5;28;01mFalse\u001b[39;00m):\n",
      "\u001b[36mFile \u001b[39m\u001b[32m~/code/gotta_go_fast/venv/lib/python3.12/site-packages/IPython/core/magics/execution.py:1225\u001b[39m, in \u001b[36mExecutionMagics.timeit\u001b[39m\u001b[34m(self, line, cell, local_ns)\u001b[39m\n\u001b[32m   1223\u001b[39m \u001b[38;5;28;01mfor\u001b[39;00m index \u001b[38;5;129;01min\u001b[39;00m \u001b[38;5;28mrange\u001b[39m(\u001b[32m0\u001b[39m, \u001b[32m10\u001b[39m):\n\u001b[32m   1224\u001b[39m     number = \u001b[32m10\u001b[39m ** index\n\u001b[32m-> \u001b[39m\u001b[32m1225\u001b[39m     time_number = \u001b[43mtimer\u001b[49m\u001b[43m.\u001b[49m\u001b[43mtimeit\u001b[49m\u001b[43m(\u001b[49m\u001b[43mnumber\u001b[49m\u001b[43m)\u001b[49m\n\u001b[32m   1226\u001b[39m     \u001b[38;5;28;01mif\u001b[39;00m time_number >= \u001b[32m0.2\u001b[39m:\n\u001b[32m   1227\u001b[39m         \u001b[38;5;28;01mbreak\u001b[39;00m\n",
      "\u001b[36mFile \u001b[39m\u001b[32m~/code/gotta_go_fast/venv/lib/python3.12/site-packages/IPython/core/magics/execution.py:183\u001b[39m, in \u001b[36mTimer.timeit\u001b[39m\u001b[34m(self, number)\u001b[39m\n\u001b[32m    181\u001b[39m gc.disable()\n\u001b[32m    182\u001b[39m \u001b[38;5;28;01mtry\u001b[39;00m:\n\u001b[32m--> \u001b[39m\u001b[32m183\u001b[39m     timing = \u001b[38;5;28;43mself\u001b[39;49m\u001b[43m.\u001b[49m\u001b[43minner\u001b[49m\u001b[43m(\u001b[49m\u001b[43mit\u001b[49m\u001b[43m,\u001b[49m\u001b[43m \u001b[49m\u001b[38;5;28;43mself\u001b[39;49m\u001b[43m.\u001b[49m\u001b[43mtimer\u001b[49m\u001b[43m)\u001b[49m\n\u001b[32m    184\u001b[39m \u001b[38;5;28;01mfinally\u001b[39;00m:\n\u001b[32m    185\u001b[39m     \u001b[38;5;28;01mif\u001b[39;00m gcold:\n",
      "\u001b[36mFile \u001b[39m\u001b[32m<magic-timeit>:2\u001b[39m, in \u001b[36minner\u001b[39m\u001b[34m(_it, _timer)\u001b[39m\n",
      "\u001b[36mFile \u001b[39m\u001b[32m~/code/gotta_go_fast/venv/lib/python3.12/site-packages/numba/core/dispatcher.py:424\u001b[39m, in \u001b[36m_DispatcherBase._compile_for_args\u001b[39m\u001b[34m(self, *args, **kws)\u001b[39m\n\u001b[32m    420\u001b[39m         msg = (\u001b[33mf\u001b[39m\u001b[33m\"\u001b[39m\u001b[38;5;132;01m{\u001b[39;00m\u001b[38;5;28mstr\u001b[39m(e).rstrip()\u001b[38;5;132;01m}\u001b[39;00m\u001b[33m \u001b[39m\u001b[38;5;130;01m\\n\u001b[39;00m\u001b[38;5;130;01m\\n\u001b[39;00m\u001b[33mThis error may have been caused \u001b[39m\u001b[33m\"\u001b[39m\n\u001b[32m    421\u001b[39m                \u001b[33mf\u001b[39m\u001b[33m\"\u001b[39m\u001b[33mby the following argument(s):\u001b[39m\u001b[38;5;130;01m\\n\u001b[39;00m\u001b[38;5;132;01m{\u001b[39;00margs_str\u001b[38;5;132;01m}\u001b[39;00m\u001b[38;5;130;01m\\n\u001b[39;00m\u001b[33m\"\u001b[39m)\n\u001b[32m    422\u001b[39m         e.patch_message(msg)\n\u001b[32m--> \u001b[39m\u001b[32m424\u001b[39m     \u001b[43merror_rewrite\u001b[49m\u001b[43m(\u001b[49m\u001b[43me\u001b[49m\u001b[43m,\u001b[49m\u001b[43m \u001b[49m\u001b[33;43m'\u001b[39;49m\u001b[33;43mtyping\u001b[39;49m\u001b[33;43m'\u001b[39;49m\u001b[43m)\u001b[49m\n\u001b[32m    425\u001b[39m \u001b[38;5;28;01mexcept\u001b[39;00m errors.UnsupportedError \u001b[38;5;28;01mas\u001b[39;00m e:\n\u001b[32m    426\u001b[39m     \u001b[38;5;66;03m# Something unsupported is present in the user code, add help info\u001b[39;00m\n\u001b[32m    427\u001b[39m     error_rewrite(e, \u001b[33m'\u001b[39m\u001b[33munsupported_error\u001b[39m\u001b[33m'\u001b[39m)\n",
      "\u001b[36mFile \u001b[39m\u001b[32m~/code/gotta_go_fast/venv/lib/python3.12/site-packages/numba/core/dispatcher.py:365\u001b[39m, in \u001b[36m_DispatcherBase._compile_for_args.<locals>.error_rewrite\u001b[39m\u001b[34m(e, issue_type)\u001b[39m\n\u001b[32m    363\u001b[39m     \u001b[38;5;28;01mraise\u001b[39;00m e\n\u001b[32m    364\u001b[39m \u001b[38;5;28;01melse\u001b[39;00m:\n\u001b[32m--> \u001b[39m\u001b[32m365\u001b[39m     \u001b[38;5;28;01mraise\u001b[39;00m e.with_traceback(\u001b[38;5;28;01mNone\u001b[39;00m)\n",
      "\u001b[31mTypingError\u001b[39m: Failed in nopython mode pipeline (step: nopython frontend)\nNo implementation of function Function(<function ones at 0x10a765580>) found for signature:\n \n >>> ones(int64, dtype=Function(<class 'bool'>))\n \nThere are 2 candidate implementations:\n  - Of which 2 did not match due to:\n  Overload in function 'ol_np_ones': File: numba/np/arrayobj.py: Line 4586.\n    With argument(s): '(int64, dtype=Function(<class 'bool'>))':\n   Rejected as the implementation raised a specific error:\n     TypingError: Failed in nopython mode pipeline (step: nopython frontend)\n   No implementation of function Function(<built-in function empty>) found for signature:\n    \n    >>> empty(int64, dtype=Function(<class 'bool'>))\n    \n   There are 2 candidate implementations:\n         - Of which 2 did not match due to:\n         Overload in function 'ol_np_empty': File: numba/np/arrayobj.py: Line 4440.\n           With argument(s): '(int64, dtype=Function(<class 'bool'>))':\n          Rejected as the implementation raised a specific error:\n            TypingError: Cannot parse input types to function np.empty(int64, Function(<class 'bool'>))\n     raised from /Users/andrius/code/gotta_go_fast/venv/lib/python3.12/site-packages/numba/np/arrayobj.py:4459\n   \n   During: resolving callee type: Function(<built-in function empty>)\n   During: typing of call at /Users/andrius/code/gotta_go_fast/venv/lib/python3.12/site-packages/numba/np/arrayobj.py (4593)\n   \n   \n   File \"venv/lib/python3.12/site-packages/numba/np/arrayobj.py\", line 4593:\n       def impl(shape, dtype=None):\n           arr = np.empty(shape, dtype=dtype)\n           ^\n   \n   During: Pass nopython_type_inference\n  raised from /Users/andrius/code/gotta_go_fast/venv/lib/python3.12/site-packages/numba/core/typeinfer.py:1074\n\nDuring: resolving callee type: Function(<function ones at 0x10a765580>)\nDuring: typing of call at /var/folders/mb/trbrgjlx0bd1gzxf6cd_k2h40000gn/T/ipykernel_88116/1990369097.py (19)\n\n\nFile \"../../../../var/folders/mb/trbrgjlx0bd1gzxf6cd_k2h40000gn/T/ipykernel_88116/1990369097.py\", line 19:\n<source missing, REPL/exec in use?>\n\nDuring: Pass nopython_type_inference"
     ]
    }
   ],
   "source": [
    "%%timeit\n",
    "### THIS CELL WILL THROW AN ERROR\n",
    "BROKEN_jitted_even_smarter_search(test_array)"
   ]
  },
  {
   "cell_type": "markdown",
   "id": "a025bcc7",
   "metadata": {},
   "source": [
    "Sorry for those of you who just clicked \"Run All\" at the top... \n",
    "\n",
    "This code seems to not have been able to compile. Depending on your needs, Numba may not be able to help you. In this case, the issue comes from the assignment of the data type \"bool\" to the array of ones that make up the sieve. Numba has limitations, and it cannot compile arrays with this data type. In this case we can get around it by converting the data type to something else, but there may not always be some sort of work around."
   ]
  },
  {
   "cell_type": "code",
   "execution_count": 3,
   "id": "62f28e06",
   "metadata": {},
   "outputs": [],
   "source": [
    "@njit\n",
    "def jitted_even_smarter_search(ns):\n",
    "    \"\"\"\n",
    "    This uses the sieve of Eratosthenes to find all primes up to the maximum number in ns.\n",
    "    \"\"\"\n",
    "    # Get the maximum number in ns\n",
    "    max_n = np.max(ns)\n",
    "\n",
    "    # Create a boolean array to mark non-prime numbers\n",
    "    sieve = np.ones(max_n + 1, dtype = np.uint8) ### Numba cannot compile dtype = bool here, so we use uint8\n",
    "    sieve[0:2] = False  # 0 and 1 are not prime numbers\n",
    "    for i in range(2, int(np.sqrt(max_n)) + 1):\n",
    "        if sieve[i]:\n",
    "            sieve[i*i:max_n + 1:i] = False  # Mark multiples of i as non-prime\n",
    "    primes = np.nonzero(sieve)[0]\n",
    "    primes_in_ns = np.intersect1d(primes, ns) # Get the prime numbers that are in ns\n",
    "    return np.nonzero(np.isin(ns, primes_in_ns))[0]  # Get the indices of the prime numbers in ns"
   ]
  },
  {
   "cell_type": "code",
   "execution_count": 4,
   "id": "21865ed1",
   "metadata": {},
   "outputs": [
    {
     "ename": "TypingError",
     "evalue": "Failed in nopython mode pipeline (step: nopython frontend)\nUse of unsupported NumPy function 'numpy.isin' or unsupported use of the function.\n\nFile \"../../../../var/folders/mb/trbrgjlx0bd1gzxf6cd_k2h40000gn/T/ipykernel_5671/2931390825.py\", line 17:\n<source missing, REPL/exec in use?>\n\nDuring: typing of get attribute at /var/folders/mb/trbrgjlx0bd1gzxf6cd_k2h40000gn/T/ipykernel_5671/2931390825.py (17)\n\nFile \"../../../../var/folders/mb/trbrgjlx0bd1gzxf6cd_k2h40000gn/T/ipykernel_5671/2931390825.py\", line 17:\n<source missing, REPL/exec in use?>\n",
     "output_type": "error",
     "traceback": [
      "\u001b[0;31m---------------------------------------------------------------------------\u001b[0m",
      "\u001b[0;31mTypingError\u001b[0m                               Traceback (most recent call last)",
      "Cell \u001b[0;32mIn[4], line 1\u001b[0m\n\u001b[0;32m----> 1\u001b[0m \u001b[43mget_ipython\u001b[49m\u001b[43m(\u001b[49m\u001b[43m)\u001b[49m\u001b[38;5;241;43m.\u001b[39;49m\u001b[43mrun_cell_magic\u001b[49m\u001b[43m(\u001b[49m\u001b[38;5;124;43m'\u001b[39;49m\u001b[38;5;124;43mtimeit\u001b[39;49m\u001b[38;5;124;43m'\u001b[39;49m\u001b[43m,\u001b[49m\u001b[43m \u001b[49m\u001b[38;5;124;43m'\u001b[39;49m\u001b[38;5;124;43m'\u001b[39;49m\u001b[43m,\u001b[49m\u001b[43m \u001b[49m\u001b[38;5;124;43m'\u001b[39;49m\u001b[38;5;124;43mjitted_even_smarter_search(test_array)\u001b[39;49m\u001b[38;5;130;43;01m\\n\u001b[39;49;00m\u001b[38;5;124;43m'\u001b[39;49m\u001b[43m)\u001b[49m\n",
      "File \u001b[0;32m~/Library/Python/3.11/lib/python/site-packages/IPython/core/interactiveshell.py:2541\u001b[0m, in \u001b[0;36mInteractiveShell.run_cell_magic\u001b[0;34m(self, magic_name, line, cell)\u001b[0m\n\u001b[1;32m   2539\u001b[0m \u001b[38;5;28;01mwith\u001b[39;00m \u001b[38;5;28mself\u001b[39m\u001b[38;5;241m.\u001b[39mbuiltin_trap:\n\u001b[1;32m   2540\u001b[0m     args \u001b[38;5;241m=\u001b[39m (magic_arg_s, cell)\n\u001b[0;32m-> 2541\u001b[0m     result \u001b[38;5;241m=\u001b[39m \u001b[43mfn\u001b[49m\u001b[43m(\u001b[49m\u001b[38;5;241;43m*\u001b[39;49m\u001b[43margs\u001b[49m\u001b[43m,\u001b[49m\u001b[43m \u001b[49m\u001b[38;5;241;43m*\u001b[39;49m\u001b[38;5;241;43m*\u001b[39;49m\u001b[43mkwargs\u001b[49m\u001b[43m)\u001b[49m\n\u001b[1;32m   2543\u001b[0m \u001b[38;5;66;03m# The code below prevents the output from being displayed\u001b[39;00m\n\u001b[1;32m   2544\u001b[0m \u001b[38;5;66;03m# when using magics with decorator @output_can_be_silenced\u001b[39;00m\n\u001b[1;32m   2545\u001b[0m \u001b[38;5;66;03m# when the last Python token in the expression is a ';'.\u001b[39;00m\n\u001b[1;32m   2546\u001b[0m \u001b[38;5;28;01mif\u001b[39;00m \u001b[38;5;28mgetattr\u001b[39m(fn, magic\u001b[38;5;241m.\u001b[39mMAGIC_OUTPUT_CAN_BE_SILENCED, \u001b[38;5;28;01mFalse\u001b[39;00m):\n",
      "File \u001b[0;32m~/Library/Python/3.11/lib/python/site-packages/IPython/core/magics/execution.py:1185\u001b[0m, in \u001b[0;36mExecutionMagics.timeit\u001b[0;34m(self, line, cell, local_ns)\u001b[0m\n\u001b[1;32m   1183\u001b[0m \u001b[38;5;28;01mfor\u001b[39;00m index \u001b[38;5;129;01min\u001b[39;00m \u001b[38;5;28mrange\u001b[39m(\u001b[38;5;241m0\u001b[39m, \u001b[38;5;241m10\u001b[39m):\n\u001b[1;32m   1184\u001b[0m     number \u001b[38;5;241m=\u001b[39m \u001b[38;5;241m10\u001b[39m \u001b[38;5;241m*\u001b[39m\u001b[38;5;241m*\u001b[39m index\n\u001b[0;32m-> 1185\u001b[0m     time_number \u001b[38;5;241m=\u001b[39m \u001b[43mtimer\u001b[49m\u001b[38;5;241;43m.\u001b[39;49m\u001b[43mtimeit\u001b[49m\u001b[43m(\u001b[49m\u001b[43mnumber\u001b[49m\u001b[43m)\u001b[49m\n\u001b[1;32m   1186\u001b[0m     \u001b[38;5;28;01mif\u001b[39;00m time_number \u001b[38;5;241m>\u001b[39m\u001b[38;5;241m=\u001b[39m \u001b[38;5;241m0.2\u001b[39m:\n\u001b[1;32m   1187\u001b[0m         \u001b[38;5;28;01mbreak\u001b[39;00m\n",
      "File \u001b[0;32m~/Library/Python/3.11/lib/python/site-packages/IPython/core/magics/execution.py:173\u001b[0m, in \u001b[0;36mTimer.timeit\u001b[0;34m(self, number)\u001b[0m\n\u001b[1;32m    171\u001b[0m gc\u001b[38;5;241m.\u001b[39mdisable()\n\u001b[1;32m    172\u001b[0m \u001b[38;5;28;01mtry\u001b[39;00m:\n\u001b[0;32m--> 173\u001b[0m     timing \u001b[38;5;241m=\u001b[39m \u001b[38;5;28;43mself\u001b[39;49m\u001b[38;5;241;43m.\u001b[39;49m\u001b[43minner\u001b[49m\u001b[43m(\u001b[49m\u001b[43mit\u001b[49m\u001b[43m,\u001b[49m\u001b[43m \u001b[49m\u001b[38;5;28;43mself\u001b[39;49m\u001b[38;5;241;43m.\u001b[39;49m\u001b[43mtimer\u001b[49m\u001b[43m)\u001b[49m\n\u001b[1;32m    174\u001b[0m \u001b[38;5;28;01mfinally\u001b[39;00m:\n\u001b[1;32m    175\u001b[0m     \u001b[38;5;28;01mif\u001b[39;00m gcold:\n",
      "File \u001b[0;32m<magic-timeit>:1\u001b[0m, in \u001b[0;36minner\u001b[0;34m(_it, _timer)\u001b[0m\n",
      "File \u001b[0;32m/opt/homebrew/lib/python3.11/site-packages/numba/core/dispatcher.py:468\u001b[0m, in \u001b[0;36m_DispatcherBase._compile_for_args\u001b[0;34m(self, *args, **kws)\u001b[0m\n\u001b[1;32m    464\u001b[0m         msg \u001b[38;5;241m=\u001b[39m (\u001b[38;5;124mf\u001b[39m\u001b[38;5;124m\"\u001b[39m\u001b[38;5;132;01m{\u001b[39;00m\u001b[38;5;28mstr\u001b[39m(e)\u001b[38;5;241m.\u001b[39mrstrip()\u001b[38;5;132;01m}\u001b[39;00m\u001b[38;5;124m \u001b[39m\u001b[38;5;130;01m\\n\u001b[39;00m\u001b[38;5;130;01m\\n\u001b[39;00m\u001b[38;5;124mThis error may have been caused \u001b[39m\u001b[38;5;124m\"\u001b[39m\n\u001b[1;32m    465\u001b[0m                \u001b[38;5;124mf\u001b[39m\u001b[38;5;124m\"\u001b[39m\u001b[38;5;124mby the following argument(s):\u001b[39m\u001b[38;5;130;01m\\n\u001b[39;00m\u001b[38;5;132;01m{\u001b[39;00margs_str\u001b[38;5;132;01m}\u001b[39;00m\u001b[38;5;130;01m\\n\u001b[39;00m\u001b[38;5;124m\"\u001b[39m)\n\u001b[1;32m    466\u001b[0m         e\u001b[38;5;241m.\u001b[39mpatch_message(msg)\n\u001b[0;32m--> 468\u001b[0m     \u001b[43merror_rewrite\u001b[49m\u001b[43m(\u001b[49m\u001b[43me\u001b[49m\u001b[43m,\u001b[49m\u001b[43m \u001b[49m\u001b[38;5;124;43m'\u001b[39;49m\u001b[38;5;124;43mtyping\u001b[39;49m\u001b[38;5;124;43m'\u001b[39;49m\u001b[43m)\u001b[49m\n\u001b[1;32m    469\u001b[0m \u001b[38;5;28;01mexcept\u001b[39;00m errors\u001b[38;5;241m.\u001b[39mUnsupportedError \u001b[38;5;28;01mas\u001b[39;00m e:\n\u001b[1;32m    470\u001b[0m     \u001b[38;5;66;03m# Something unsupported is present in the user code, add help info\u001b[39;00m\n\u001b[1;32m    471\u001b[0m     error_rewrite(e, \u001b[38;5;124m'\u001b[39m\u001b[38;5;124munsupported_error\u001b[39m\u001b[38;5;124m'\u001b[39m)\n",
      "File \u001b[0;32m/opt/homebrew/lib/python3.11/site-packages/numba/core/dispatcher.py:409\u001b[0m, in \u001b[0;36m_DispatcherBase._compile_for_args.<locals>.error_rewrite\u001b[0;34m(e, issue_type)\u001b[0m\n\u001b[1;32m    407\u001b[0m     \u001b[38;5;28;01mraise\u001b[39;00m e\n\u001b[1;32m    408\u001b[0m \u001b[38;5;28;01melse\u001b[39;00m:\n\u001b[0;32m--> 409\u001b[0m     \u001b[38;5;28;01mraise\u001b[39;00m e\u001b[38;5;241m.\u001b[39mwith_traceback(\u001b[38;5;28;01mNone\u001b[39;00m)\n",
      "\u001b[0;31mTypingError\u001b[0m: Failed in nopython mode pipeline (step: nopython frontend)\nUse of unsupported NumPy function 'numpy.isin' or unsupported use of the function.\n\nFile \"../../../../var/folders/mb/trbrgjlx0bd1gzxf6cd_k2h40000gn/T/ipykernel_5671/2931390825.py\", line 17:\n<source missing, REPL/exec in use?>\n\nDuring: typing of get attribute at /var/folders/mb/trbrgjlx0bd1gzxf6cd_k2h40000gn/T/ipykernel_5671/2931390825.py (17)\n\nFile \"../../../../var/folders/mb/trbrgjlx0bd1gzxf6cd_k2h40000gn/T/ipykernel_5671/2931390825.py\", line 17:\n<source missing, REPL/exec in use?>\n"
     ]
    }
   ],
   "source": [
    "%%timeit\n",
    "jitted_even_smarter_search(test_array)"
   ]
  },
  {
   "cell_type": "markdown",
   "id": "9a2c6548",
   "metadata": {},
   "source": [
    "Wait what? We just took the fastest algorithm and slapped our Numba decorator on there, but we got worse results than the previous method? \n",
    "\n",
    "This is most likely due to the fact that there is a lot of array index manipulation happening here. Computational operations like this require a lot of memory overhead; the computer needs to read and write a lot of data multiple times. We need to extract the primes from the sieve, compare to the original test array, and then spit out the indices that match the primes in the test array. This is still a bit faster than the non-JIT counter-part from above, but is significantly slower than our previous method. This is an example where the optimal solution is some combination of multiple methods."
   ]
  },
  {
   "cell_type": "markdown",
   "id": "67d031d1",
   "metadata": {},
   "source": [
    "------------------\n",
    "------------------\n",
    "## Cython: If Python and C had a child"
   ]
  },
  {
   "cell_type": "markdown",
   "id": "6a468a4c",
   "metadata": {},
   "source": [
    "Now we will switch gears and use a tool called [Cython](https://cython.readthedocs.io/en/latest/index.html). Cython allows you to write Python-like syntax which is then compiled into a C script that you can import and call from Python. I have personally used this method in my research and took code that ran for about a week to run in only a few hours. This method can speed up your code by quite a lot, but there are some downsides such as compatability. It is more readable like Python, but there are a few minor changes to the syntax that I will show you here."
   ]
  },
  {
   "cell_type": "markdown",
   "id": "8796540e",
   "metadata": {},
   "source": [
    "We need to tell the Jupyter notebook to load Cython, and we need to import things using Cython. To load Cython in a Jupyter notebook, we use the following: \"%load_ext Cython\". To declare that a cell should be interpreted as Cython code, we begin the cell with \"%%cython\". \n",
    "\n",
    "Another thing is that the way Cython interacts with the Jupyter notebook is that it treats the cell as an isolated script. Any dependencies of the cell need to be re-defined in the cell in order for it to compile properly. This is why each cell has the repeated imports. If you were to write a Cython script you can assume variables and dependencies follow the standard scope of their definitions."
   ]
  },
  {
   "cell_type": "code",
   "execution_count": null,
   "id": "17aaed84",
   "metadata": {},
   "outputs": [],
   "source": [
    "%load_ext Cython"
   ]
  },
  {
   "cell_type": "code",
   "execution_count": null,
   "id": "3978f1ac",
   "metadata": {},
   "outputs": [],
   "source": [
    "import warnings\n",
    "warnings.filterwarnings(\"ignore\", category = DeprecationWarning)"
   ]
  },
  {
   "cell_type": "code",
   "execution_count": null,
   "id": "4f0e849b",
   "metadata": {},
   "outputs": [],
   "source": [
    "%%cython\n",
    "cimport cython\n",
    "cimport numpy as cnp\n",
    "\n",
    "\n",
    "@cython.boundscheck(False)\n",
    "@cython.wraparound(False)\n",
    "cpdef cython_brute_force(long[:] ns):\n",
    "    \"\"\"\n",
    "    Brute force algorithm to check if a number is prime.\n",
    "    This method is incredibly inefficient since it checks ALL numbers up to n.\n",
    "    \"\"\"\n",
    "    # Initialize a list to store the indices of prime numbers\n",
    "    cdef list prime_indices = []\n",
    "\n",
    "    # Iterate through each number contained in array ns to check if it is prime\n",
    "    for index in range(0, ns.shape[0]):\n",
    "        # Check if n is less than 2\n",
    "        if ns[index] < 2:\n",
    "            continue\n",
    "\n",
    "        # Check if n is prime\n",
    "        for i in range(2, ns[index] - 1):\n",
    "            if ns[index] % i == 0:\n",
    "                break\n",
    "        else:\n",
    "            # If n is prime, append its index to the list\n",
    "            prime_indices.append(index)\n",
    "\n",
    "    return prime_indices"
   ]
  },
  {
   "cell_type": "code",
   "execution_count": null,
   "id": "d006c7a9",
   "metadata": {},
   "outputs": [
    {
     "name": "stdout",
     "output_type": "stream",
     "text": [
      "852 μs ± 39.2 μs per loop (mean ± std. dev. of 7 runs, 1,000 loops each)\n"
     ]
    }
   ],
   "source": [
    "%%timeit\n",
    "cython_brute_force(test_array)"
   ]
  },
  {
   "cell_type": "markdown",
   "id": "449e1291",
   "metadata": {},
   "source": [
    "Using the worst method, but implementing it in Cython we see that it now takes many hundreds of microseconds. This is still faster than the pure Python implementation, but this isn't great either. We can do better again by doing the minor optimization as we have before."
   ]
  },
  {
   "cell_type": "code",
   "execution_count": null,
   "id": "012100be",
   "metadata": {},
   "outputs": [],
   "source": [
    "%%cython\n",
    "from libc.math cimport sqrt\n",
    "cimport cython\n",
    "cimport numpy as cnp\n",
    "\n",
    "@cython.boundscheck(False)\n",
    "@cython.wraparound(False)\n",
    "cpdef cython_smarter_search(long[:] ns):\n",
    "    \"\"\"\n",
    "    Brute force algorithm to check if a number is prime.\n",
    "    This method is incredibly inefficient since it checks ALL numbers up to n.\n",
    "    \"\"\"\n",
    "    # Initialize a list to store the indices of prime numbers\n",
    "    cdef list prime_indices = []\n",
    "\n",
    "    # Iterate through each number contained in array ns to check if it is prime\n",
    "    for index in range(0, ns.shape[0]):\n",
    "        # Check if n is less than 2\n",
    "        if ns[index] < 2:\n",
    "            continue\n",
    "\n",
    "        # Check if n is prime\n",
    "        for i in range(2, int(sqrt(ns[index])) + 1):\n",
    "            if ns[index] % i == 0:\n",
    "                break\n",
    "        else:\n",
    "            # If n is prime, append its index to the list\n",
    "            prime_indices.append(index)\n",
    "\n",
    "    return prime_indices"
   ]
  },
  {
   "cell_type": "code",
   "execution_count": null,
   "id": "009b30f8",
   "metadata": {},
   "outputs": [
    {
     "name": "stdout",
     "output_type": "stream",
     "text": [
      "19.8 μs ± 181 ns per loop (mean ± std. dev. of 7 runs, 10,000 loops each)\n"
     ]
    }
   ],
   "source": [
    "%%timeit\n",
    "cython_smarter_search(test_array)"
   ]
  },
  {
   "cell_type": "markdown",
   "id": "c2a2ec1e",
   "metadata": {},
   "source": [
    "Now we have gotten the timing down to 10s of microseconds. This is much better than the few milliseconds that we started with but still not as good as the corresponding Numba method. We can see what happens if we try Cythonizing the sieve method."
   ]
  },
  {
   "cell_type": "code",
   "execution_count": null,
   "id": "89e5ae00",
   "metadata": {},
   "outputs": [],
   "source": [
    "%%cython\n",
    "\n",
    "from libc.math cimport sqrt\n",
    "cimport cython\n",
    "import numpy as np\n",
    "cimport numpy as np\n",
    "\n",
    "@cython.boundscheck(False)\n",
    "@cython.wraparound(False)\n",
    "cpdef list cython_even_smarter_search(np.ndarray[long, ndim = 1] arr):\n",
    "    cdef int i, j, val, max_val = 0\n",
    "    cdef list result = []\n",
    "\n",
    "    # Find max value in array\n",
    "    for i in range(arr.shape[0]):\n",
    "        if arr[i] > max_val:\n",
    "            max_val = arr[i]\n",
    "\n",
    "    # Build sieve\n",
    "    cdef np.ndarray[np.uint8_t, ndim=1] sieve = np.ones(max_val + 1, dtype = np.uint8)\n",
    "    sieve[0] = 0\n",
    "    if max_val >= 1:\n",
    "        sieve[1] = 0\n",
    "    for i in range(2, int(sqrt(max_val)) + 1):\n",
    "        if sieve[i]:\n",
    "            for j in range(i * i, max_val + 1, i):\n",
    "                sieve[j] = 0\n",
    "\n",
    "    # Check array elements against sieve\n",
    "    for i in range(arr.shape[0]):\n",
    "        val = arr[i]\n",
    "        if sieve[val]:\n",
    "            result.append(i)\n",
    "\n",
    "    return result\n"
   ]
  },
  {
   "cell_type": "code",
   "execution_count": null,
   "id": "237e33ed",
   "metadata": {},
   "outputs": [
    {
     "name": "stdout",
     "output_type": "stream",
     "text": [
      "77.9 μs ± 4.25 μs per loop (mean ± std. dev. of 7 runs, 10,000 loops each)\n"
     ]
    }
   ],
   "source": [
    "%%timeit\n",
    "cython_even_smarter_search(test_array)\n",
    "# This cell might not look like it is running for some reason"
   ]
  },
  {
   "cell_type": "markdown",
   "id": "f347818b",
   "metadata": {},
   "source": [
    "Again, we are seeing that the array manipulation costs additional overhead and that this is less optimal than the previous method."
   ]
  },
  {
   "cell_type": "markdown",
   "id": "69db914d",
   "metadata": {},
   "source": [
    "------------\n",
    "------------\n",
    "## Outlook:\n",
    "\n",
    "Every code you are tasked to write will be different. Some code may take almost no time, and you won't even need additional speed up, other codes may take forever no matter what methods you try and use. The intention of this notebook is to show you a few simple ways to modify your approach or code to achieve a faster runtime. You may have to experiment a bit to uncover the method that runs the fastest as we did in the cells above. \n",
    "\n",
    "A useful tool to assist you in identifying bottlenecks in your code is the Python [profiler](https://docs.python.org/3/library/profile.html#). This tool will allow you to time your code (like our %%timeit cells above) and will provide you with a ton of info. It will keep track of every function call, how many times, how long each evaluation takes and will help you see where the computer is spending its time. Knowing which code is the most expensive will let you optimally optimize your code!"
   ]
  },
  {
   "cell_type": "markdown",
   "id": "24d361dd",
   "metadata": {},
   "source": [
    "------------\n",
    "------------\n",
    "## Choose your own adventure!\n",
    "\n",
    "Now that you have working examples of the basic function, you should be ready to start implementing these methods on your own! At this point you can either move on to the next notebook, or you can stay here and take on the challenge at the end of this notebook. The choice is yours!"
   ]
  },
  {
   "cell_type": "markdown",
   "id": "8dc7aff6",
   "metadata": {},
   "source": [
    "------------\n",
    "------------\n",
    "\n",
    "## Challenge: \n",
    "See if you can write a function that executes faster than any of the above methods! \n",
    "\n",
    "Feel free to copy and paste any of the above code that may be relevant for you."
   ]
  },
  {
   "cell_type": "code",
   "execution_count": null,
   "id": "4989b26e",
   "metadata": {},
   "outputs": [],
   "source": []
  }
 ],
 "metadata": {
  "kernelspec": {
   "display_name": "Python 3",
   "language": "python",
   "name": "python3"
  },
  "language_info": {
   "codemirror_mode": {
    "name": "ipython",
    "version": 3
   },
   "file_extension": ".py",
   "mimetype": "text/x-python",
   "name": "python",
   "nbconvert_exporter": "python",
   "pygments_lexer": "ipython3",
   "version": "3.12.6"
  }
 },
 "nbformat": 4,
 "nbformat_minor": 5
}
